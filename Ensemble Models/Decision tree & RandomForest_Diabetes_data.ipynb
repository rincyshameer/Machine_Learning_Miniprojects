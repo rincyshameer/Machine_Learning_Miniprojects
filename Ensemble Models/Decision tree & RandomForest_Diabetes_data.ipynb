{
 "cells": [
  {
   "cell_type": "code",
   "execution_count": 1,
   "id": "a03ee9c4",
   "metadata": {},
   "outputs": [
    {
     "name": "stdout",
     "output_type": "stream",
     "text": [
      "Index(['Pregnancies', 'Glucose', 'BloodPressure', 'SkinThickness', 'Insulin',\n",
      "       'BMI', 'DiabetesPedigreeFunction', 'Age', 'Outcome'],\n",
      "      dtype='object')\n"
     ]
    }
   ],
   "source": [
    "from sklearn import tree\n",
    "from sklearn import metrics\n",
    "from sklearn.model_selection import train_test_split\n",
    "from sklearn import ensemble\n",
    "\n",
    "import pandas as pd\n",
    "import numpy as np\n",
    "\n",
    "\n",
    "data = pd.read_csv('./diabetes.csv')\n",
    "print(data.columns)\n",
    "y=data['Outcome']\n",
    "X =data.drop('Outcome',axis=1)\n",
    "\n",
    "#print(X)\n",
    "#print(Y)"
   ]
  },
  {
   "cell_type": "code",
   "execution_count": 2,
   "id": "8c704ab1",
   "metadata": {},
   "outputs": [],
   "source": [
    "\n",
    "#Splitting the dataset\n",
    "X_train,X_test,y_train,y_test = train_test_split(X,y,test_size=0.3,random_state=10)\n",
    "\n",
    "#Creating the DTree and RandomForest model\n",
    "\n",
    "dt_Model = tree.DecisionTreeClassifier(criterion='gini',random_state=10)\n",
    "rf_Model = ensemble.RandomForestClassifier(n_estimators=500,criterion='gini',random_state=10)\n",
    "#500-The no: of trees collectively taking the decisions\n",
    "\n"
   ]
  },
  {
   "cell_type": "code",
   "execution_count": 3,
   "id": "6ea310dc",
   "metadata": {},
   "outputs": [
    {
     "name": "stdout",
     "output_type": "stream",
     "text": [
      "Training accuracy DT:  1.0\n",
      "Testing accuracy DT:  0.7142857142857143\n",
      "Training accuracy RF:  1.0\n",
      "Testing accuracy RF:  0.7619047619047619\n"
     ]
    }
   ],
   "source": [
    "#Training the  data for DTree model\n",
    "dt_Model = dt_Model.fit(X_train,y_train)\n",
    "\n",
    "#Predicting the Dtree output(ypred)\n",
    "op_trainDT = dt_Model.predict(X_train)\n",
    "op_testDT = dt_Model.predict(X_test)\n",
    "\n",
    "#Training the data for Random Forest model\n",
    "rf_Model = rf_Model.fit(X_train,y_train)\n",
    "\n",
    "#Predicting the RF output(ypred)\n",
    "op_trainRF = rf_Model.predict(X_train)\n",
    "op_testRF = rf_Model.predict(X_test)\n",
    "\n",
    "\n",
    "#Checking the accuracy,both training and testing accuracy of the Dtree model\n",
    "\n",
    "acc_trainDT = metrics.accuracy_score(op_trainDT,y_train)\n",
    "acc_testDT = metrics.accuracy_score(op_testDT,y_test)\n",
    "\n",
    "# random Forest result\n",
    "#Checking the accuracy,both training and testing accuracy of the Random Forest model\n",
    "\n",
    "acc_trainRF = metrics.accuracy_score(op_trainRF,y_train)\n",
    "acc_testRF = metrics.accuracy_score(op_testRF,y_test)\n",
    "\n",
    "\n",
    "\n",
    "print('Training accuracy DT: ',acc_trainDT)\n",
    "print('Testing accuracy DT: ',acc_testDT)\n",
    "\n",
    "print('Training accuracy RF: ',acc_trainRF)\n",
    "print('Testing accuracy RF: ',acc_testRF)\n"
   ]
  },
  {
   "cell_type": "markdown",
   "id": "07f22b3e",
   "metadata": {},
   "source": [
    "##This is an underfitting model"
   ]
  },
  {
   "cell_type": "code",
   "execution_count": null,
   "id": "e0e74f64",
   "metadata": {},
   "outputs": [],
   "source": []
  }
 ],
 "metadata": {
  "kernelspec": {
   "display_name": "Python 3 (ipykernel)",
   "language": "python",
   "name": "python3"
  },
  "language_info": {
   "codemirror_mode": {
    "name": "ipython",
    "version": 3
   },
   "file_extension": ".py",
   "mimetype": "text/x-python",
   "name": "python",
   "nbconvert_exporter": "python",
   "pygments_lexer": "ipython3",
   "version": "3.9.12"
  }
 },
 "nbformat": 4,
 "nbformat_minor": 5
}
