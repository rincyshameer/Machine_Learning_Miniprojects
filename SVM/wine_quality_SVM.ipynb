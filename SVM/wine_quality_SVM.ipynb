{
 "cells": [
  {
   "cell_type": "code",
   "execution_count": 2,
   "id": "619d5e60",
   "metadata": {},
   "outputs": [
    {
     "name": "stdout",
     "output_type": "stream",
     "text": [
      "Index(['fixed acidity', 'volatile acidity', 'citric acid', 'residual sugar',\n",
      "       'chlorides', 'free sulfur dioxide', 'total sulfur dioxide', 'density',\n",
      "       'pH', 'sulphates', 'alcohol', 'quality'],\n",
      "      dtype='object')\n"
     ]
    }
   ],
   "source": [
    "from sklearn import datasets,metrics,svm \n",
    "from sklearn.model_selection import train_test_split\n",
    "import pandas as pd \n",
    "\n",
    "p = './winequality_white.csv'\n",
    "data = pd.read_csv(p)\n",
    "\n",
    "print(data.columns)\n",
    "\n",
    "y = data['quality'].values\n",
    "X = data.drop(['quality'],axis=1).values\n",
    "#print(X.columns)\n",
    "\n",
    "#print(y.unique())\n",
    "ind = (y>=3) & (y<=4)\n",
    "y[ind]=0\n",
    "ind = (y>=5) & (y<=8)\n",
    "y[ind]=1\n",
    "ind = (y>=9)\n",
    "y[ind]=2"
   ]
  },
  {
   "cell_type": "code",
   "execution_count": 3,
   "id": "8f2f88a1",
   "metadata": {},
   "outputs": [
    {
     "name": "stdout",
     "output_type": "stream",
     "text": [
      "Accuracy with linear kernel:  0.9619047619047619\n"
     ]
    }
   ],
   "source": [
    "\n",
    "Xtrain,Xtest,ytrain,ytest= train_test_split(X,y,test_size=0.3,random_state=2)\n",
    "\n",
    "svmModel = svm.SVC(kernel = 'linear',degree=3, max_iter=-1,decision_function_shape='ovr',C=1,gamma='scale')\n",
    "svmModel = svmModel.fit(Xtrain,ytrain)\n",
    "\n",
    "yp = svmModel.predict(Xtest)\n",
    "\n",
    "acc = metrics.accuracy_score(yp,ytest)\n",
    "print('Accuracy with linear kernel: ',acc)\n"
   ]
  },
  {
   "cell_type": "code",
   "execution_count": 4,
   "id": "e18dea98",
   "metadata": {},
   "outputs": [
    {
     "name": "stdout",
     "output_type": "stream",
     "text": [
      "           rbf     linear       poly\n",
      "0.5  96.243365  96.243365  96.243365\n",
      "0.3  96.190476  96.190476  96.190476\n",
      "0.2  96.122449  96.122449  96.122449\n"
     ]
    }
   ],
   "source": [
    "import numpy as np\n",
    "import pandas as pd\n",
    "\n",
    "ratio= [0.5,0.3,0.2]\n",
    "kernel=['rbf','linear','poly']\n",
    "result = np.zeros((len(kernel),len(ratio)))\n",
    "\n",
    "for i in range(len(ratio)):\n",
    "    Xtrain,Xtest,ytrain,ytest = train_test_split(X,y,test_size=ratio[i],random_state=2)\n",
    "    for j in range(len(kernel)):\n",
    "        svmModel = svm.SVC(kernel = kernel[j],degree=3, max_iter=-1,decision_function_shape='ovr',C=1, gamma='scale')\n",
    "        svmModel = svmModel.fit(Xtrain,ytrain)\n",
    "        yp = svmModel.predict(Xtest)\n",
    "        acc = metrics.accuracy_score(yp,ytest)\n",
    "        result[i,j]=acc*100\n",
    "                   \n",
    "resultFrame = pd.DataFrame(result,index = ratio,columns=kernel)\n",
    "print(resultFrame)\n"
   ]
  },
  {
   "cell_type": "code",
   "execution_count": 5,
   "id": "45231014",
   "metadata": {},
   "outputs": [
    {
     "data": {
      "text/plain": [
       "<AxesSubplot:>"
      ]
     },
     "execution_count": 5,
     "metadata": {},
     "output_type": "execute_result"
    },
    {
     "data": {
      "image/png": "[encoded data removed]",
      "text/plain": [
       "<Figure size 432x288 with 1 Axes>"
      ]
     },
     "metadata": {
      "needs_background": "light"
     },
     "output_type": "display_data"
    }
   ],
   "source": [
    "resultFrame.T.plot(kind = 'bar')"
   ]
  },
  {
   "cell_type": "code",
   "execution_count": null,
   "id": "3165d916",
   "metadata": {},
   "outputs": [],
   "source": []
  },
  {
   "cell_type": "code",
   "execution_count": null,
   "id": "11b07eb5",
   "metadata": {},
   "outputs": [],
   "source": []
  }
 ],
 "metadata": {
  "kernelspec": {
   "display_name": "Python 3 (ipykernel)",
   "language": "python",
   "name": "python3"
  },
  "language_info": {
   "codemirror_mode": {
    "name": "ipython",
    "version": 3
   },
   "file_extension": ".py",
   "mimetype": "text/x-python",
   "name": "python",
   "nbconvert_exporter": "python",
   "pygments_lexer": "ipython3",
   "version": "3.9.12"
  }
 },
 "nbformat": 4,
 "nbformat_minor": 5
}
